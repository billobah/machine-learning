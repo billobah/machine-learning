{
 "cells": [
  {
   "cell_type": "code",
   "execution_count": 1,
   "id": "d904084d",
   "metadata": {},
   "outputs": [
    {
     "data": {
      "text/html": [
       "<div>\n",
       "<style scoped>\n",
       "    .dataframe tbody tr th:only-of-type {\n",
       "        vertical-align: middle;\n",
       "    }\n",
       "\n",
       "    .dataframe tbody tr th {\n",
       "        vertical-align: top;\n",
       "    }\n",
       "\n",
       "    .dataframe thead th {\n",
       "        text-align: right;\n",
       "    }\n",
       "</style>\n",
       "<table border=\"1\" class=\"dataframe\">\n",
       "  <thead>\n",
       "    <tr style=\"text-align: right;\">\n",
       "      <th></th>\n",
       "      <th>longitude</th>\n",
       "      <th>latitude</th>\n",
       "      <th>housing_median_age</th>\n",
       "      <th>...</th>\n",
       "      <th>median_income</th>\n",
       "      <th>median_house_value</th>\n",
       "      <th>ocean_proximity</th>\n",
       "    </tr>\n",
       "  </thead>\n",
       "  <tbody>\n",
       "    <tr>\n",
       "      <th>0</th>\n",
       "      <td>-122.23</td>\n",
       "      <td>37.88</td>\n",
       "      <td>41.0</td>\n",
       "      <td>...</td>\n",
       "      <td>8.3252</td>\n",
       "      <td>452600.0</td>\n",
       "      <td>NEAR BAY</td>\n",
       "    </tr>\n",
       "    <tr>\n",
       "      <th>1</th>\n",
       "      <td>-122.22</td>\n",
       "      <td>37.86</td>\n",
       "      <td>21.0</td>\n",
       "      <td>...</td>\n",
       "      <td>8.3014</td>\n",
       "      <td>358500.0</td>\n",
       "      <td>NEAR BAY</td>\n",
       "    </tr>\n",
       "    <tr>\n",
       "      <th>2</th>\n",
       "      <td>-122.24</td>\n",
       "      <td>37.85</td>\n",
       "      <td>52.0</td>\n",
       "      <td>...</td>\n",
       "      <td>7.2574</td>\n",
       "      <td>352100.0</td>\n",
       "      <td>NEAR BAY</td>\n",
       "    </tr>\n",
       "    <tr>\n",
       "      <th>3</th>\n",
       "      <td>-122.25</td>\n",
       "      <td>37.85</td>\n",
       "      <td>52.0</td>\n",
       "      <td>...</td>\n",
       "      <td>5.6431</td>\n",
       "      <td>341300.0</td>\n",
       "      <td>NEAR BAY</td>\n",
       "    </tr>\n",
       "    <tr>\n",
       "      <th>4</th>\n",
       "      <td>-122.25</td>\n",
       "      <td>37.85</td>\n",
       "      <td>52.0</td>\n",
       "      <td>...</td>\n",
       "      <td>3.8462</td>\n",
       "      <td>342200.0</td>\n",
       "      <td>NEAR BAY</td>\n",
       "    </tr>\n",
       "  </tbody>\n",
       "</table>\n",
       "<p>5 rows × 10 columns</p>\n",
       "</div>"
      ],
      "text/plain": [
       "   longitude  latitude  housing_median_age  ...  median_income  \\\n",
       "0    -122.23     37.88                41.0  ...         8.3252   \n",
       "1    -122.22     37.86                21.0  ...         8.3014   \n",
       "2    -122.24     37.85                52.0  ...         7.2574   \n",
       "3    -122.25     37.85                52.0  ...         5.6431   \n",
       "4    -122.25     37.85                52.0  ...         3.8462   \n",
       "\n",
       "   median_house_value  ocean_proximity  \n",
       "0            452600.0         NEAR BAY  \n",
       "1            358500.0         NEAR BAY  \n",
       "2            352100.0         NEAR BAY  \n",
       "3            341300.0         NEAR BAY  \n",
       "4            342200.0         NEAR BAY  \n",
       "\n",
       "[5 rows x 10 columns]"
      ]
     },
     "execution_count": 1,
     "metadata": {},
     "output_type": "execute_result"
    }
   ],
   "source": [
    "# import des librairies\n",
    "import pandas as pd\n",
    "pd.options.display.max_columns = 7\n",
    "\n",
    "# Lire/explorer les données\n",
    "df = pd.read_csv('housing.csv')\n",
    "\n",
    "df.head()"
   ]
  },
  {
   "cell_type": "code",
   "execution_count": 2,
   "id": "12f4dc40",
   "metadata": {},
   "outputs": [
    {
     "name": "stdout",
     "output_type": "stream",
     "text": [
      "<class 'pandas.core.frame.DataFrame'>\n",
      "RangeIndex: 20640 entries, 0 to 20639\n",
      "Data columns (total 10 columns):\n",
      " #   Column              Non-Null Count  Dtype  \n",
      "---  ------              --------------  -----  \n",
      " 0   longitude           20640 non-null  float64\n",
      " 1   latitude            20640 non-null  float64\n",
      " 2   housing_median_age  20640 non-null  float64\n",
      " 3   total_rooms         20640 non-null  float64\n",
      " 4   total_bedrooms      20433 non-null  float64\n",
      " 5   population          20640 non-null  float64\n",
      " 6   households          20640 non-null  float64\n",
      " 7   median_income       20640 non-null  float64\n",
      " 8   median_house_value  20640 non-null  float64\n",
      " 9   ocean_proximity     20640 non-null  object \n",
      "dtypes: float64(9), object(1)\n",
      "memory usage: 1.6+ MB\n"
     ]
    }
   ],
   "source": [
    "# infos sur les données\n",
    "df.info()"
   ]
  },
  {
   "cell_type": "code",
   "execution_count": 4,
   "id": "6a15c45f",
   "metadata": {},
   "outputs": [
    {
     "data": {
      "text/plain": [
       "0        NEAR BAY\n",
       "1        NEAR BAY\n",
       "2        NEAR BAY\n",
       "3        NEAR BAY\n",
       "4        NEAR BAY\n",
       "           ...   \n",
       "20635      INLAND\n",
       "20636      INLAND\n",
       "20637      INLAND\n",
       "20638      INLAND\n",
       "20639      INLAND\n",
       "Name: ocean_proximity, Length: 20640, dtype: object"
      ]
     },
     "execution_count": 4,
     "metadata": {},
     "output_type": "execute_result"
    }
   ],
   "source": [
    "# accéder à une colonne en particulier\n",
    "df['longitude']"
   ]
  },
  {
   "cell_type": "code",
   "execution_count": null,
   "id": "38ebedf2",
   "metadata": {},
   "outputs": [],
   "source": [
    "df['ocean_proximity']"
   ]
  },
  {
   "cell_type": "code",
   "execution_count": 5,
   "id": "ee644efb",
   "metadata": {},
   "outputs": [
    {
     "data": {
      "text/plain": [
       "0        NEAR BAY\n",
       "1        NEAR BAY\n",
       "2        NEAR BAY\n",
       "3        NEAR BAY\n",
       "4        NEAR BAY\n",
       "           ...   \n",
       "20635      INLAND\n",
       "20636      INLAND\n",
       "20637      INLAND\n",
       "20638      INLAND\n",
       "20639      INLAND\n",
       "Name: ocean_proximity, Length: 20640, dtype: category\n",
       "Categories (5, object): ['<1H OCEAN', 'INLAND', 'ISLAND', 'NEAR BAY', 'NEAR OCEAN']"
      ]
     },
     "execution_count": 5,
     "metadata": {},
     "output_type": "execute_result"
    }
   ],
   "source": [
    "# changer 'object' en 'category' pour accélérer les traitements\n",
    "df = df.astype({'ocean_proximity':'category'})\n",
    "df['ocean_proximity']"
   ]
  },
  {
   "cell_type": "code",
   "execution_count": 6,
   "id": "31f23e4b",
   "metadata": {},
   "outputs": [
    {
     "data": {
      "text/plain": [
       "0        452600.0\n",
       "1        358500.0\n",
       "2        352100.0\n",
       "3        341300.0\n",
       "4        342200.0\n",
       "           ...   \n",
       "20635     78100.0\n",
       "20636     77100.0\n",
       "20637     92300.0\n",
       "20638     84700.0\n",
       "20639     89400.0\n",
       "Name: median_house_value, Length: 20640, dtype: float64"
      ]
     },
     "execution_count": 6,
     "metadata": {},
     "output_type": "execute_result"
    }
   ],
   "source": [
    "# filtrer les résultats\n",
    "df['median_house_value']"
   ]
  },
  {
   "cell_type": "code",
   "execution_count": 8,
   "id": "f50c39ce",
   "metadata": {},
   "outputs": [
    {
     "data": {
      "text/html": [
       "<div>\n",
       "<style scoped>\n",
       "    .dataframe tbody tr th:only-of-type {\n",
       "        vertical-align: middle;\n",
       "    }\n",
       "\n",
       "    .dataframe tbody tr th {\n",
       "        vertical-align: top;\n",
       "    }\n",
       "\n",
       "    .dataframe thead th {\n",
       "        text-align: right;\n",
       "    }\n",
       "</style>\n",
       "<table border=\"1\" class=\"dataframe\">\n",
       "  <thead>\n",
       "    <tr style=\"text-align: right;\">\n",
       "      <th></th>\n",
       "      <th>longitude</th>\n",
       "      <th>latitude</th>\n",
       "      <th>housing_median_age</th>\n",
       "      <th>...</th>\n",
       "      <th>median_income</th>\n",
       "      <th>median_house_value</th>\n",
       "      <th>ocean_proximity</th>\n",
       "    </tr>\n",
       "  </thead>\n",
       "  <tbody>\n",
       "    <tr>\n",
       "      <th>0</th>\n",
       "      <td>-122.23</td>\n",
       "      <td>37.88</td>\n",
       "      <td>41.0</td>\n",
       "      <td>...</td>\n",
       "      <td>8.3252</td>\n",
       "      <td>452600.0</td>\n",
       "      <td>NEAR BAY</td>\n",
       "    </tr>\n",
       "    <tr>\n",
       "      <th>1</th>\n",
       "      <td>-122.22</td>\n",
       "      <td>37.86</td>\n",
       "      <td>21.0</td>\n",
       "      <td>...</td>\n",
       "      <td>8.3014</td>\n",
       "      <td>358500.0</td>\n",
       "      <td>NEAR BAY</td>\n",
       "    </tr>\n",
       "    <tr>\n",
       "      <th>2</th>\n",
       "      <td>-122.24</td>\n",
       "      <td>37.85</td>\n",
       "      <td>52.0</td>\n",
       "      <td>...</td>\n",
       "      <td>7.2574</td>\n",
       "      <td>352100.0</td>\n",
       "      <td>NEAR BAY</td>\n",
       "    </tr>\n",
       "    <tr>\n",
       "      <th>3</th>\n",
       "      <td>-122.25</td>\n",
       "      <td>37.85</td>\n",
       "      <td>52.0</td>\n",
       "      <td>...</td>\n",
       "      <td>5.6431</td>\n",
       "      <td>341300.0</td>\n",
       "      <td>NEAR BAY</td>\n",
       "    </tr>\n",
       "    <tr>\n",
       "      <th>4</th>\n",
       "      <td>-122.25</td>\n",
       "      <td>37.85</td>\n",
       "      <td>52.0</td>\n",
       "      <td>...</td>\n",
       "      <td>3.8462</td>\n",
       "      <td>342200.0</td>\n",
       "      <td>NEAR BAY</td>\n",
       "    </tr>\n",
       "    <tr>\n",
       "      <th>...</th>\n",
       "      <td>...</td>\n",
       "      <td>...</td>\n",
       "      <td>...</td>\n",
       "      <td>...</td>\n",
       "      <td>...</td>\n",
       "      <td>...</td>\n",
       "      <td>...</td>\n",
       "    </tr>\n",
       "    <tr>\n",
       "      <th>20629</th>\n",
       "      <td>-121.39</td>\n",
       "      <td>39.12</td>\n",
       "      <td>28.0</td>\n",
       "      <td>...</td>\n",
       "      <td>2.0943</td>\n",
       "      <td>108300.0</td>\n",
       "      <td>INLAND</td>\n",
       "    </tr>\n",
       "    <tr>\n",
       "      <th>20630</th>\n",
       "      <td>-121.32</td>\n",
       "      <td>39.29</td>\n",
       "      <td>11.0</td>\n",
       "      <td>...</td>\n",
       "      <td>3.5673</td>\n",
       "      <td>112000.0</td>\n",
       "      <td>INLAND</td>\n",
       "    </tr>\n",
       "    <tr>\n",
       "      <th>20631</th>\n",
       "      <td>-121.40</td>\n",
       "      <td>39.33</td>\n",
       "      <td>15.0</td>\n",
       "      <td>...</td>\n",
       "      <td>3.5179</td>\n",
       "      <td>107200.0</td>\n",
       "      <td>INLAND</td>\n",
       "    </tr>\n",
       "    <tr>\n",
       "      <th>20632</th>\n",
       "      <td>-121.45</td>\n",
       "      <td>39.26</td>\n",
       "      <td>15.0</td>\n",
       "      <td>...</td>\n",
       "      <td>3.1250</td>\n",
       "      <td>115600.0</td>\n",
       "      <td>INLAND</td>\n",
       "    </tr>\n",
       "    <tr>\n",
       "      <th>20634</th>\n",
       "      <td>-121.56</td>\n",
       "      <td>39.27</td>\n",
       "      <td>28.0</td>\n",
       "      <td>...</td>\n",
       "      <td>3.7125</td>\n",
       "      <td>116800.0</td>\n",
       "      <td>INLAND</td>\n",
       "    </tr>\n",
       "  </tbody>\n",
       "</table>\n",
       "<p>16982 rows × 10 columns</p>\n",
       "</div>"
      ],
      "text/plain": [
       "       longitude  latitude  housing_median_age  ...  median_income  \\\n",
       "0        -122.23     37.88                41.0  ...         8.3252   \n",
       "1        -122.22     37.86                21.0  ...         8.3014   \n",
       "2        -122.24     37.85                52.0  ...         7.2574   \n",
       "3        -122.25     37.85                52.0  ...         5.6431   \n",
       "4        -122.25     37.85                52.0  ...         3.8462   \n",
       "...          ...       ...                 ...  ...            ...   \n",
       "20629    -121.39     39.12                28.0  ...         2.0943   \n",
       "20630    -121.32     39.29                11.0  ...         3.5673   \n",
       "20631    -121.40     39.33                15.0  ...         3.5179   \n",
       "20632    -121.45     39.26                15.0  ...         3.1250   \n",
       "20634    -121.56     39.27                28.0  ...         3.7125   \n",
       "\n",
       "       median_house_value  ocean_proximity  \n",
       "0                452600.0         NEAR BAY  \n",
       "1                358500.0         NEAR BAY  \n",
       "2                352100.0         NEAR BAY  \n",
       "3                341300.0         NEAR BAY  \n",
       "4                342200.0         NEAR BAY  \n",
       "...                   ...              ...  \n",
       "20629            108300.0           INLAND  \n",
       "20630            112000.0           INLAND  \n",
       "20631            107200.0           INLAND  \n",
       "20632            115600.0           INLAND  \n",
       "20634            116800.0           INLAND  \n",
       "\n",
       "[16982 rows x 10 columns]"
      ]
     },
     "execution_count": 8,
     "metadata": {},
     "output_type": "execute_result"
    }
   ],
   "source": [
    "# afficher les lignes où la valeur de la maison est > 100000\n",
    "df[df['median_house_value']>100000]"
   ]
  },
  {
   "cell_type": "code",
   "execution_count": 9,
   "id": "6e18c554",
   "metadata": {},
   "outputs": [
    {
     "name": "stdout",
     "output_type": "stream",
     "text": [
      "<class 'pandas.core.frame.DataFrame'>\n",
      "RangeIndex: 20640 entries, 0 to 20639\n",
      "Data columns (total 11 columns):\n",
      " #   Column               Non-Null Count  Dtype   \n",
      "---  ------               --------------  -----   \n",
      " 0   longitude            20640 non-null  float64 \n",
      " 1   latitude             20640 non-null  float64 \n",
      " 2   housing_median_age   20640 non-null  float64 \n",
      " 3   total_rooms          20640 non-null  float64 \n",
      " 4   total_bedrooms       20433 non-null  float64 \n",
      " 5   population           20640 non-null  float64 \n",
      " 6   households           20640 non-null  float64 \n",
      " 7   median_income        20640 non-null  float64 \n",
      " 8   median_house_value   20640 non-null  float64 \n",
      " 9   ocean_proximity      20640 non-null  category\n",
      " 10  rooms_per_household  20640 non-null  float64 \n",
      "dtypes: category(1), float64(10)\n",
      "memory usage: 1.6 MB\n"
     ]
    }
   ],
   "source": [
    "# Ingénierie des données: créer des données\n",
    "# à partir des données déjà existantes\n",
    "\n",
    "df['rooms_per_household'] = df['total_rooms']/df['households']\n",
    "df.info()"
   ]
  },
  {
   "cell_type": "code",
   "execution_count": 11,
   "id": "681a05c0",
   "metadata": {},
   "outputs": [
    {
     "data": {
      "text/plain": [
       "0        6.984127\n",
       "1        6.238137\n",
       "2        8.288136\n",
       "3        5.817352\n",
       "4        6.281853\n",
       "           ...   \n",
       "20635    5.045455\n",
       "20636    6.114035\n",
       "20637    5.205543\n",
       "20638    5.329513\n",
       "20639    5.254717\n",
       "Name: rooms_per_household, Length: 20640, dtype: float64"
      ]
     },
     "execution_count": 11,
     "metadata": {},
     "output_type": "execute_result"
    }
   ],
   "source": [
    "df['rooms_per_household']"
   ]
  },
  {
   "cell_type": "code",
   "execution_count": 12,
   "id": "c8596890",
   "metadata": {},
   "outputs": [
    {
     "name": "stdout",
     "output_type": "stream",
     "text": [
      "<class 'pandas.core.frame.DataFrame'>\n",
      "RangeIndex: 20640 entries, 0 to 20639\n",
      "Data columns (total 12 columns):\n",
      " #   Column                  Non-Null Count  Dtype   \n",
      "---  ------                  --------------  -----   \n",
      " 0   longitude               20640 non-null  float64 \n",
      " 1   latitude                20640 non-null  float64 \n",
      " 2   housing_median_age      20640 non-null  float64 \n",
      " 3   total_rooms             20640 non-null  float64 \n",
      " 4   total_bedrooms          20433 non-null  float64 \n",
      " 5   population              20640 non-null  float64 \n",
      " 6   households              20640 non-null  float64 \n",
      " 7   median_income           20640 non-null  float64 \n",
      " 8   median_house_value      20640 non-null  float64 \n",
      " 9   ocean_proximity         20640 non-null  category\n",
      " 10  rooms_per_household     20640 non-null  float64 \n",
      " 11  bedrooms_per_household  20433 non-null  float64 \n",
      "dtypes: category(1), float64(11)\n",
      "memory usage: 1.8 MB\n"
     ]
    },
    {
     "data": {
      "text/plain": [
       "0        1.023810\n",
       "1        0.971880\n",
       "2        1.073446\n",
       "3        1.073059\n",
       "4        1.081081\n",
       "           ...   \n",
       "20635    1.133333\n",
       "20636    1.315789\n",
       "20637    1.120092\n",
       "20638    1.171920\n",
       "20639    1.162264\n",
       "Name: bedrooms_per_household, Length: 20640, dtype: float64"
      ]
     },
     "execution_count": 12,
     "metadata": {},
     "output_type": "execute_result"
    }
   ],
   "source": [
    "df['bedrooms_per_household'] = df['total_bedrooms']/df['households']\n",
    "df.info()\n",
    "df['bedrooms_per_household']"
   ]
  },
  {
   "cell_type": "code",
   "execution_count": 13,
   "id": "887d8ecc",
   "metadata": {},
   "outputs": [
    {
     "name": "stdout",
     "output_type": "stream",
     "text": [
      "<class 'pandas.core.frame.DataFrame'>\n",
      "RangeIndex: 20640 entries, 0 to 20639\n",
      "Data columns (total 13 columns):\n",
      " #   Column                    Non-Null Count  Dtype   \n",
      "---  ------                    --------------  -----   \n",
      " 0   longitude                 20640 non-null  float64 \n",
      " 1   latitude                  20640 non-null  float64 \n",
      " 2   housing_median_age        20640 non-null  float64 \n",
      " 3   total_rooms               20640 non-null  float64 \n",
      " 4   total_bedrooms            20433 non-null  float64 \n",
      " 5   population                20640 non-null  float64 \n",
      " 6   households                20640 non-null  float64 \n",
      " 7   median_income             20640 non-null  float64 \n",
      " 8   median_house_value        20640 non-null  float64 \n",
      " 9   ocean_proximity           20640 non-null  category\n",
      " 10  rooms_per_household       20640 non-null  float64 \n",
      " 11  bedrooms_per_household    20433 non-null  float64 \n",
      " 12  population_per_household  20640 non-null  float64 \n",
      "dtypes: category(1), float64(12)\n",
      "memory usage: 1.9 MB\n"
     ]
    },
    {
     "data": {
      "text/plain": [
       "0        2.555556\n",
       "1        2.109842\n",
       "2        2.802260\n",
       "3        2.547945\n",
       "4        2.181467\n",
       "           ...   \n",
       "20635    2.560606\n",
       "20636    3.122807\n",
       "20637    2.325635\n",
       "20638    2.123209\n",
       "20639    2.616981\n",
       "Name: population_per_household, Length: 20640, dtype: float64"
      ]
     },
     "execution_count": 13,
     "metadata": {},
     "output_type": "execute_result"
    }
   ],
   "source": [
    "df['population_per_household'] = df['population']/df['households']\n",
    "df.info()\n",
    "df['population_per_household']"
   ]
  },
  {
   "cell_type": "code",
   "execution_count": null,
   "id": "113cd5d8",
   "metadata": {},
   "outputs": [],
   "source": [
    "# Supprimer les données qui ne vont pas servir à l'analyse\n",
    "\n",
    "df = df.drop(['latitude'], axis=1)"
   ]
  },
  {
   "cell_type": "code",
   "execution_count": 16,
   "id": "2dde829b",
   "metadata": {},
   "outputs": [
    {
     "name": "stdout",
     "output_type": "stream",
     "text": [
      "<class 'pandas.core.frame.DataFrame'>\n",
      "RangeIndex: 20640 entries, 0 to 20639\n",
      "Data columns (total 12 columns):\n",
      " #   Column                    Non-Null Count  Dtype   \n",
      "---  ------                    --------------  -----   \n",
      " 0   longitude                 20640 non-null  float64 \n",
      " 1   housing_median_age        20640 non-null  float64 \n",
      " 2   total_rooms               20640 non-null  float64 \n",
      " 3   total_bedrooms            20433 non-null  float64 \n",
      " 4   population                20640 non-null  float64 \n",
      " 5   households                20640 non-null  float64 \n",
      " 6   median_income             20640 non-null  float64 \n",
      " 7   median_house_value        20640 non-null  float64 \n",
      " 8   ocean_proximity           20640 non-null  category\n",
      " 9   rooms_per_household       20640 non-null  float64 \n",
      " 10  bedrooms_per_household    20433 non-null  float64 \n",
      " 11  population_per_household  20640 non-null  float64 \n",
      "dtypes: category(1), float64(11)\n",
      "memory usage: 1.8 MB\n"
     ]
    }
   ],
   "source": [
    "df.info()"
   ]
  },
  {
   "cell_type": "code",
   "execution_count": 17,
   "id": "ba3895a4",
   "metadata": {},
   "outputs": [
    {
     "name": "stdout",
     "output_type": "stream",
     "text": [
      "<class 'pandas.core.frame.DataFrame'>\n",
      "RangeIndex: 20640 entries, 0 to 20639\n",
      "Data columns (total 11 columns):\n",
      " #   Column                    Non-Null Count  Dtype   \n",
      "---  ------                    --------------  -----   \n",
      " 0   housing_median_age        20640 non-null  float64 \n",
      " 1   total_rooms               20640 non-null  float64 \n",
      " 2   total_bedrooms            20433 non-null  float64 \n",
      " 3   population                20640 non-null  float64 \n",
      " 4   households                20640 non-null  float64 \n",
      " 5   median_income             20640 non-null  float64 \n",
      " 6   median_house_value        20640 non-null  float64 \n",
      " 7   ocean_proximity           20640 non-null  category\n",
      " 8   rooms_per_household       20640 non-null  float64 \n",
      " 9   bedrooms_per_household    20433 non-null  float64 \n",
      " 10  population_per_household  20640 non-null  float64 \n",
      "dtypes: category(1), float64(10)\n",
      "memory usage: 1.6 MB\n"
     ]
    }
   ],
   "source": [
    "df = df.drop(['longitude'], axis=1)\n",
    "df.info()"
   ]
  },
  {
   "cell_type": "code",
   "execution_count": null,
   "id": "5e2995df",
   "metadata": {},
   "outputs": [],
   "source": []
  }
 ],
 "metadata": {
  "kernelspec": {
   "display_name": "Python 3 (ipykernel)",
   "language": "python",
   "name": "python3"
  },
  "language_info": {
   "codemirror_mode": {
    "name": "ipython",
    "version": 3
   },
   "file_extension": ".py",
   "mimetype": "text/x-python",
   "name": "python",
   "nbconvert_exporter": "python",
   "pygments_lexer": "ipython3",
   "version": "3.9.7"
  }
 },
 "nbformat": 4,
 "nbformat_minor": 5
}
